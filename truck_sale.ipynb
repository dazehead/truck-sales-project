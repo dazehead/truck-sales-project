{
 "cells": [
  {
   "cell_type": "markdown",
   "metadata": {},
   "source": [
    "## Table of Contents\n",
    "* [Goals](#goals)\n",
    "* [Data](#data)\n",
    "    * [Loading Data](#section1_1)\n",
    "    * [Data Information](#section1_2)\n",
    "* [Data Cleaning](#section2_1)"
   ]
  },
  {
   "cell_type": "markdown",
   "metadata": {},
   "source": [
    "### Goals <a class=\"anchor\" id=\"Goals\"></a>\n",
    "This notebook contains data scraped from a used truck sales websites. The goal of this is project is to do the following:\n",
    "* Retrieve our data from webscrapes \"wild data\"\n",
    "* Clean the data so it is ready for analysis\n",
    "* Develop some questions for analysis\n",
    "* Analyze variables within the data to gain patterns and insights on these questions\n",
    "* Store data in a database\n",
    "* Create a dashboard presentation using Tableau"
   ]
  },
  {
   "cell_type": "markdown",
   "metadata": {},
   "source": [
    "### Data <a class=\"anchor\" id=\"Data\"></a>\n",
    "The data for this project was gathered using Web Scraper; a free Edge plug-in, from [equiptment experts](https://www.equipmentexperts.com/). This website shows listings for Class A heavy duty equiptment."
   ]
  },
  {
   "cell_type": "markdown",
   "metadata": {},
   "source": [
    "#### Loading the Data <a class=\"anchor\" id=\"section1_1\"></a>\n",
    "We will import the librarys we plan on using and view the first 5 lines of the data"
   ]
  },
  {
   "cell_type": "code",
   "execution_count": 2,
   "metadata": {},
   "outputs": [],
   "source": [
    "import pandas as pd\n",
    "import seaborn as sns\n",
    "import matplotlib.pyplot as plt\n",
    "import numpy as np\n",
    "import re"
   ]
  },
  {
   "cell_type": "code",
   "execution_count": 3,
   "metadata": {},
   "outputs": [
    {
     "data": {
      "text/html": [
       "<div>\n",
       "<style scoped>\n",
       "    .dataframe tbody tr th:only-of-type {\n",
       "        vertical-align: middle;\n",
       "    }\n",
       "\n",
       "    .dataframe tbody tr th {\n",
       "        vertical-align: top;\n",
       "    }\n",
       "\n",
       "    .dataframe thead th {\n",
       "        text-align: right;\n",
       "    }\n",
       "</style>\n",
       "<table border=\"1\" class=\"dataframe\">\n",
       "  <thead>\n",
       "    <tr style=\"text-align: right;\">\n",
       "      <th></th>\n",
       "      <th>mileage</th>\n",
       "      <th>dealer</th>\n",
       "      <th>location</th>\n",
       "      <th>price</th>\n",
       "      <th>make</th>\n",
       "      <th>website</th>\n",
       "    </tr>\n",
       "  </thead>\n",
       "  <tbody>\n",
       "    <tr>\n",
       "      <th>0</th>\n",
       "      <td>461,060 mi</td>\n",
       "      <td>Doggett Freightliner</td>\n",
       "      <td>Pharr, TX</td>\n",
       "      <td>$34,900</td>\n",
       "      <td>2015 Volvo VNL</td>\n",
       "      <td>https://www.equipmentexperts.com/trucking/heav...</td>\n",
       "    </tr>\n",
       "    <tr>\n",
       "      <th>1</th>\n",
       "      <td>391,294 mi</td>\n",
       "      <td>Arrow Truck Sales</td>\n",
       "      <td>French Camp, CA</td>\n",
       "      <td>$106,950</td>\n",
       "      <td>2020 KENWORTH T680</td>\n",
       "      <td>https://www.equipmentexperts.com/trucking/heav...</td>\n",
       "    </tr>\n",
       "    <tr>\n",
       "      <th>2</th>\n",
       "      <td>476,567 mi</td>\n",
       "      <td>Bonander Truck &amp; Trailer</td>\n",
       "      <td>Turlock, CA</td>\n",
       "      <td>$88,500</td>\n",
       "      <td>2016 Freightliner Cascadia</td>\n",
       "      <td>https://www.equipmentexperts.com/trucking/heav...</td>\n",
       "    </tr>\n",
       "    <tr>\n",
       "      <th>3</th>\n",
       "      <td>139,319 mi</td>\n",
       "      <td>Dobbs Peterbilt</td>\n",
       "      <td>North Little Rock, AR</td>\n",
       "      <td>$171,950</td>\n",
       "      <td>2022 PETERBILT 579</td>\n",
       "      <td>https://www.equipmentexperts.com/trucking/heav...</td>\n",
       "    </tr>\n",
       "    <tr>\n",
       "      <th>4</th>\n",
       "      <td>674,852 mi</td>\n",
       "      <td>Truck and Van Outlet</td>\n",
       "      <td>Miami, FL</td>\n",
       "      <td>$49,995</td>\n",
       "      <td>2012 Kenworth T700</td>\n",
       "      <td>https://www.equipmentexperts.com/trucking/heav...</td>\n",
       "    </tr>\n",
       "  </tbody>\n",
       "</table>\n",
       "</div>"
      ],
      "text/plain": [
       "      mileage                    dealer               location     price   \n",
       "0  461,060 mi      Doggett Freightliner              Pharr, TX   $34,900  \\\n",
       "1  391,294 mi         Arrow Truck Sales        French Camp, CA  $106,950   \n",
       "2  476,567 mi  Bonander Truck & Trailer            Turlock, CA   $88,500   \n",
       "3  139,319 mi           Dobbs Peterbilt  North Little Rock, AR  $171,950   \n",
       "4  674,852 mi      Truck and Van Outlet              Miami, FL   $49,995   \n",
       "\n",
       "                         make   \n",
       "0              2015 Volvo VNL  \\\n",
       "1          2020 KENWORTH T680   \n",
       "2  2016 Freightliner Cascadia   \n",
       "3          2022 PETERBILT 579   \n",
       "4          2012 Kenworth T700   \n",
       "\n",
       "                                             website  \n",
       "0  https://www.equipmentexperts.com/trucking/heav...  \n",
       "1  https://www.equipmentexperts.com/trucking/heav...  \n",
       "2  https://www.equipmentexperts.com/trucking/heav...  \n",
       "3  https://www.equipmentexperts.com/trucking/heav...  \n",
       "4  https://www.equipmentexperts.com/trucking/heav...  "
      ]
     },
     "execution_count": 3,
     "metadata": {},
     "output_type": "execute_result"
    }
   ],
   "source": [
    "data = pd.read_csv('equiptment_experts_raw_data.csv')\n",
    "data.head()"
   ]
  },
  {
   "cell_type": "markdown",
   "metadata": {},
   "source": [
    "#### Data Information <a class=\"anchor\" id=\"section1_2\"></a>\n",
    "some immediate insights are:\n",
    "* `mileage` is an object and needs to be stripped and converted to a float. There are also some null values and we should investigate values such as \"1 mi\"\n",
    "* `location` column can be split to City and State columns\n",
    "* `price` dtype needs to be converted to a int and although it is not showing any null values there are values like \"Call for Price\"\n",
    "* `make` column needs to be split into \"year\", \"make\", \"model\" and formatted\n"
   ]
  },
  {
   "cell_type": "code",
   "execution_count": 4,
   "metadata": {},
   "outputs": [
    {
     "name": "stdout",
     "output_type": "stream",
     "text": [
      "<class 'pandas.core.frame.DataFrame'>\n",
      "RangeIndex: 8857 entries, 0 to 8856\n",
      "Data columns (total 6 columns):\n",
      " #   Column    Non-Null Count  Dtype \n",
      "---  ------    --------------  ----- \n",
      " 0   mileage   8485 non-null   object\n",
      " 1   dealer    8857 non-null   object\n",
      " 2   location  8857 non-null   object\n",
      " 3   price     8857 non-null   object\n",
      " 4   make      8857 non-null   object\n",
      " 5   website   8857 non-null   object\n",
      "dtypes: object(6)\n",
      "memory usage: 415.3+ KB\n"
     ]
    }
   ],
   "source": [
    "data.info()"
   ]
  },
  {
   "cell_type": "code",
   "execution_count": 5,
   "metadata": {},
   "outputs": [
    {
     "data": {
      "text/plain": [
       "mileage     372\n",
       "dealer        0\n",
       "location      0\n",
       "price         0\n",
       "make          0\n",
       "website       0\n",
       "dtype: int64"
      ]
     },
     "execution_count": 5,
     "metadata": {},
     "output_type": "execute_result"
    }
   ],
   "source": [
    "data.isnull().sum()"
   ]
  },
  {
   "cell_type": "code",
   "execution_count": 6,
   "metadata": {},
   "outputs": [
    {
     "data": {
      "text/html": [
       "<div>\n",
       "<style scoped>\n",
       "    .dataframe tbody tr th:only-of-type {\n",
       "        vertical-align: middle;\n",
       "    }\n",
       "\n",
       "    .dataframe tbody tr th {\n",
       "        vertical-align: top;\n",
       "    }\n",
       "\n",
       "    .dataframe thead th {\n",
       "        text-align: right;\n",
       "    }\n",
       "</style>\n",
       "<table border=\"1\" class=\"dataframe\">\n",
       "  <thead>\n",
       "    <tr style=\"text-align: right;\">\n",
       "      <th></th>\n",
       "      <th>mileage</th>\n",
       "      <th>dealer</th>\n",
       "      <th>location</th>\n",
       "      <th>price</th>\n",
       "      <th>make</th>\n",
       "      <th>website</th>\n",
       "    </tr>\n",
       "  </thead>\n",
       "  <tbody>\n",
       "    <tr>\n",
       "      <th>count</th>\n",
       "      <td>8485</td>\n",
       "      <td>8857</td>\n",
       "      <td>8857</td>\n",
       "      <td>8857</td>\n",
       "      <td>8857</td>\n",
       "      <td>8857</td>\n",
       "    </tr>\n",
       "    <tr>\n",
       "      <th>unique</th>\n",
       "      <td>8290</td>\n",
       "      <td>76</td>\n",
       "      <td>498</td>\n",
       "      <td>1694</td>\n",
       "      <td>1299</td>\n",
       "      <td>8857</td>\n",
       "    </tr>\n",
       "    <tr>\n",
       "      <th>top</th>\n",
       "      <td>1 mi</td>\n",
       "      <td>Penske Used Trucks</td>\n",
       "      <td>Covington, TN</td>\n",
       "      <td>Call For Price</td>\n",
       "      <td>2016 FREIGHTLINER X12564ST</td>\n",
       "      <td>https://www.equipmentexperts.com/trucking/heav...</td>\n",
       "    </tr>\n",
       "    <tr>\n",
       "      <th>freq</th>\n",
       "      <td>10</td>\n",
       "      <td>2237</td>\n",
       "      <td>804</td>\n",
       "      <td>355</td>\n",
       "      <td>563</td>\n",
       "      <td>1</td>\n",
       "    </tr>\n",
       "  </tbody>\n",
       "</table>\n",
       "</div>"
      ],
      "text/plain": [
       "       mileage              dealer       location           price   \n",
       "count     8485                8857           8857            8857  \\\n",
       "unique    8290                  76            498            1694   \n",
       "top       1 mi  Penske Used Trucks  Covington, TN  Call For Price   \n",
       "freq        10                2237            804             355   \n",
       "\n",
       "                              make   \n",
       "count                         8857  \\\n",
       "unique                        1299   \n",
       "top     2016 FREIGHTLINER X12564ST   \n",
       "freq                           563   \n",
       "\n",
       "                                                  website  \n",
       "count                                                8857  \n",
       "unique                                               8857  \n",
       "top     https://www.equipmentexperts.com/trucking/heav...  \n",
       "freq                                                    1  "
      ]
     },
     "execution_count": 6,
     "metadata": {},
     "output_type": "execute_result"
    }
   ],
   "source": [
    "data.describe()"
   ]
  },
  {
   "cell_type": "markdown",
   "metadata": {},
   "source": [
    "#### Data Cleaning <a class=\"anchor\" id=\"cleaning\"></a>\n",
    "\n",
    "We will start with seperating all our categorical data into their desired columns\n",
    "* create `year`, `make`, `model` columns\n",
    "    * 1 issue was with the format 'Navistar'(Parent Company of International) on International trucks that had different format than the rest of the trucks. I first had to remove this in order properly split the columns\n",
    "* create `city`, `state` columns"
   ]
  },
  {
   "cell_type": "code",
   "execution_count": 7,
   "metadata": {},
   "outputs": [
    {
     "data": {
      "text/html": [
       "<div>\n",
       "<style scoped>\n",
       "    .dataframe tbody tr th:only-of-type {\n",
       "        vertical-align: middle;\n",
       "    }\n",
       "\n",
       "    .dataframe tbody tr th {\n",
       "        vertical-align: top;\n",
       "    }\n",
       "\n",
       "    .dataframe thead th {\n",
       "        text-align: right;\n",
       "    }\n",
       "</style>\n",
       "<table border=\"1\" class=\"dataframe\">\n",
       "  <thead>\n",
       "    <tr style=\"text-align: right;\">\n",
       "      <th></th>\n",
       "      <th>mileage</th>\n",
       "      <th>dealer</th>\n",
       "      <th>price</th>\n",
       "      <th>make</th>\n",
       "      <th>website</th>\n",
       "      <th>year</th>\n",
       "      <th>model</th>\n",
       "      <th>city</th>\n",
       "      <th>state</th>\n",
       "    </tr>\n",
       "  </thead>\n",
       "  <tbody>\n",
       "    <tr>\n",
       "      <th>0</th>\n",
       "      <td>461,060 mi</td>\n",
       "      <td>Doggett Freightliner</td>\n",
       "      <td>$34,900</td>\n",
       "      <td>Volvo</td>\n",
       "      <td>https://www.equipmentexperts.com/trucking/heav...</td>\n",
       "      <td>2015</td>\n",
       "      <td>Vnl</td>\n",
       "      <td>Pharr</td>\n",
       "      <td>TX</td>\n",
       "    </tr>\n",
       "    <tr>\n",
       "      <th>1</th>\n",
       "      <td>391,294 mi</td>\n",
       "      <td>Arrow Truck Sales</td>\n",
       "      <td>$106,950</td>\n",
       "      <td>Kenworth</td>\n",
       "      <td>https://www.equipmentexperts.com/trucking/heav...</td>\n",
       "      <td>2020</td>\n",
       "      <td>T680</td>\n",
       "      <td>French Camp</td>\n",
       "      <td>CA</td>\n",
       "    </tr>\n",
       "    <tr>\n",
       "      <th>2</th>\n",
       "      <td>476,567 mi</td>\n",
       "      <td>Bonander Truck &amp; Trailer</td>\n",
       "      <td>$88,500</td>\n",
       "      <td>Freightliner</td>\n",
       "      <td>https://www.equipmentexperts.com/trucking/heav...</td>\n",
       "      <td>2016</td>\n",
       "      <td>Cascadia</td>\n",
       "      <td>Turlock</td>\n",
       "      <td>CA</td>\n",
       "    </tr>\n",
       "    <tr>\n",
       "      <th>3</th>\n",
       "      <td>139,319 mi</td>\n",
       "      <td>Dobbs Peterbilt</td>\n",
       "      <td>$171,950</td>\n",
       "      <td>Peterbilt</td>\n",
       "      <td>https://www.equipmentexperts.com/trucking/heav...</td>\n",
       "      <td>2022</td>\n",
       "      <td>579</td>\n",
       "      <td>North Little Rock</td>\n",
       "      <td>AR</td>\n",
       "    </tr>\n",
       "    <tr>\n",
       "      <th>4</th>\n",
       "      <td>674,852 mi</td>\n",
       "      <td>Truck and Van Outlet</td>\n",
       "      <td>$49,995</td>\n",
       "      <td>Kenworth</td>\n",
       "      <td>https://www.equipmentexperts.com/trucking/heav...</td>\n",
       "      <td>2012</td>\n",
       "      <td>T700</td>\n",
       "      <td>Miami</td>\n",
       "      <td>FL</td>\n",
       "    </tr>\n",
       "  </tbody>\n",
       "</table>\n",
       "</div>"
      ],
      "text/plain": [
       "      mileage                    dealer     price          make   \n",
       "0  461,060 mi      Doggett Freightliner   $34,900         Volvo  \\\n",
       "1  391,294 mi         Arrow Truck Sales  $106,950      Kenworth   \n",
       "2  476,567 mi  Bonander Truck & Trailer   $88,500  Freightliner   \n",
       "3  139,319 mi           Dobbs Peterbilt  $171,950     Peterbilt   \n",
       "4  674,852 mi      Truck and Van Outlet   $49,995      Kenworth   \n",
       "\n",
       "                                             website  year     model   \n",
       "0  https://www.equipmentexperts.com/trucking/heav...  2015       Vnl  \\\n",
       "1  https://www.equipmentexperts.com/trucking/heav...  2020      T680   \n",
       "2  https://www.equipmentexperts.com/trucking/heav...  2016  Cascadia   \n",
       "3  https://www.equipmentexperts.com/trucking/heav...  2022       579   \n",
       "4  https://www.equipmentexperts.com/trucking/heav...  2012      T700   \n",
       "\n",
       "                city state  \n",
       "0              Pharr    TX  \n",
       "1        French Camp    CA  \n",
       "2            Turlock    CA  \n",
       "3  North Little Rock    AR  \n",
       "4              Miami    FL  "
      ]
     },
     "execution_count": 7,
     "metadata": {},
     "output_type": "execute_result"
    }
   ],
   "source": [
    "# removing 'Navistar' from makes so that we can split correctly\n",
    "data['make'] = data['make'].str.title()\n",
    "data['make'] = data['make'].str.replace('Navistar', '')\n",
    "\n",
    "# creating new columns and adding the data to them from the make column\n",
    "data['year'] = data['make'].apply(lambda x: str(x).split()[0])\n",
    "data['model'] = data['make'].apply(lambda x: ''.join(str(x).split()[2:]))\n",
    "data['make'] = data['make'].apply(lambda x: str(x).split()[1])\n",
    "\n",
    "# creating city and state columns and removing location column\n",
    "data['city'] = data['location'].apply(lambda x: str(x).split(',')[0])\n",
    "data['state'] = data['location'].apply(lambda x: str(x).split(',')[1])\n",
    "data.drop(columns='location', axis=1, inplace=True)\n",
    "\n",
    "data.head()\n",
    "\n"
   ]
  },
  {
   "cell_type": "markdown",
   "metadata": {},
   "source": [
    "The `mileage` and `price` column are going to be our main columns for analysis so we need to ensure these are the cleanest we will start by:\n",
    "* converting all psuedo NaN values to an acutal Nan and then removing them from our dataset\n",
    "* removing commas and strings from `mileage` and converting them to integers\n",
    "* removing $ and commas from `price` and converting them to floats\n",
    "\n",
    "Both columns are then looked at using a boxplot for outliers since we have found some we will remove any row with over 2 million miles and any price less than $500."
   ]
  },
  {
   "cell_type": "code",
   "execution_count": 8,
   "metadata": {},
   "outputs": [],
   "source": [
    "# replacing values 'nan' and 'Call For Price' with actual Nan values\n",
    "data['price'] = data['price'].replace('Call For Price', np.NaN)\n",
    "data['mileage'] = data['mileage'].replace('nan', np.NaN)\n",
    "\n",
    "#drop all NaN values from mileage and price\n",
    "data = data.dropna(how = 'any').reset_index(drop=True)\n",
    "\n",
    "#spliting strings, removing commas, converting to int64 - (some values were too big we need to investigate)\n",
    "data['mileage'] = data['mileage'].apply(lambda x: str(x).split(' ')[0].replace(',', '')).astype('int64')\n",
    "data['price'] = data['price'].apply(lambda x: str(x).replace('$', '').replace(',', '')).astype('float')"
   ]
  },
  {
   "cell_type": "code",
   "execution_count": 9,
   "metadata": {},
   "outputs": [
    {
     "data": {
      "image/png": "[encoded data removed]",
      "text/plain": [
       "<Figure size 640x480 with 1 Axes>"
      ]
     },
     "metadata": {},
     "output_type": "display_data"
    }
   ],
   "source": [
    "sns.boxplot(data['mileage'])\n",
    "plt.show()"
   ]
  },
  {
   "cell_type": "markdown",
   "metadata": {},
   "source": [
    "There is a significant outlier showing 500 trillion miles we will remove that from our data set"
   ]
  },
  {
   "cell_type": "code",
   "execution_count": 11,
   "metadata": {},
   "outputs": [
    {
     "data": {
      "image/png": "[encoded data removed]",
      "text/plain": [
       "<Figure size 640x480 with 1 Axes>"
      ]
     },
     "metadata": {},
     "output_type": "display_data"
    }
   ],
   "source": [
    "data = data[data['mileage']<2000000]\n",
    "sns.boxplot(data['mileage'])\n",
    "plt.show()"
   ]
  }
 ],
 "metadata": {
  "kernelspec": {
   "display_name": "Python 3",
   "language": "python",
   "name": "python3"
  },
  "language_info": {
   "codemirror_mode": {
    "name": "ipython",
    "version": 3
   },
   "file_extension": ".py",
   "mimetype": "text/x-python",
   "name": "python",
   "nbconvert_exporter": "python",
   "pygments_lexer": "ipython3",
   "version": "3.10.11"
  },
  "orig_nbformat": 4
 },
 "nbformat": 4,
 "nbformat_minor": 2
}
