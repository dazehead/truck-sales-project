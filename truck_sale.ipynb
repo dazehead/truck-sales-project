{
 "cells": [
  {
   "cell_type": "markdown",
   "metadata": {},
   "source": [
    "## Table of Contents\n",
    "* [Goals](#goals)\n",
    "* [Data](#data)\n",
    "    * [Loading Data](#section1_1)\n",
    "    * [Data Information](#section1_2)\n",
    "* [Data Cleaning](#section2)\n",
    "    * [Categorical Data](#section2_1)\n",
    "    * [Qauntitative Data](#section2_2)"
   ]
  },
  {
   "cell_type": "markdown",
   "metadata": {},
   "source": [
    "### Goals <a class=\"anchor\" id=\"Goals\"></a>\n",
    "This notebook contains data scraped from a used truck sales websites. The goal of this is project is to do the following:\n",
    "* Retrieve our data from webscrapes \"wild data\"\n",
    "* Clean the data so it is ready for analysis\n",
    "* Develop some questions for analysis\n",
    "* Analyze variables within the data to gain patterns and insights on these questions\n",
    "* Store data in a database\n",
    "* Create a dashboard presentation using Tableau"
   ]
  },
  {
   "cell_type": "markdown",
   "metadata": {},
   "source": [
    "### Data <a class=\"anchor\" id=\"Data\"></a>\n",
    "The data for this project was gathered using Web Scraper; a free Edge plug-in, from [equiptment experts](https://www.equipmentexperts.com/). This website shows listings for Class A heavy duty equiptment."
   ]
  },
  {
   "cell_type": "markdown",
   "metadata": {},
   "source": [
    "#### Loading the Data <a class=\"anchor\" id=\"section1_1\"></a>\n",
    "We will import the librarys we plan on using and view the first 5 lines of the data"
   ]
  },
  {
   "cell_type": "code",
   "execution_count": 1,
   "metadata": {},
   "outputs": [],
   "source": [
    "import pandas as pd\n",
    "import seaborn as sns\n",
    "import matplotlib.pyplot as plt\n",
    "import numpy as np\n",
    "import re"
   ]
  },
  {
   "cell_type": "code",
   "execution_count": 2,
   "metadata": {},
   "outputs": [
    {
     "data": {
      "text/html": [
       "<div>\n",
       "<style scoped>\n",
       "    .dataframe tbody tr th:only-of-type {\n",
       "        vertical-align: middle;\n",
       "    }\n",
       "\n",
       "    .dataframe tbody tr th {\n",
       "        vertical-align: top;\n",
       "    }\n",
       "\n",
       "    .dataframe thead th {\n",
       "        text-align: right;\n",
       "    }\n",
       "</style>\n",
       "<table border=\"1\" class=\"dataframe\">\n",
       "  <thead>\n",
       "    <tr style=\"text-align: right;\">\n",
       "      <th></th>\n",
       "      <th>mileage</th>\n",
       "      <th>dealer</th>\n",
       "      <th>location</th>\n",
       "      <th>price</th>\n",
       "      <th>make</th>\n",
       "      <th>website</th>\n",
       "    </tr>\n",
       "  </thead>\n",
       "  <tbody>\n",
       "    <tr>\n",
       "      <th>0</th>\n",
       "      <td>461,060 mi</td>\n",
       "      <td>Doggett Freightliner</td>\n",
       "      <td>Pharr, TX</td>\n",
       "      <td>$34,900</td>\n",
       "      <td>2015 Volvo VNL</td>\n",
       "      <td>https://www.equipmentexperts.com/trucking/heav...</td>\n",
       "    </tr>\n",
       "    <tr>\n",
       "      <th>1</th>\n",
       "      <td>391,294 mi</td>\n",
       "      <td>Arrow Truck Sales</td>\n",
       "      <td>French Camp, CA</td>\n",
       "      <td>$106,950</td>\n",
       "      <td>2020 KENWORTH T680</td>\n",
       "      <td>https://www.equipmentexperts.com/trucking/heav...</td>\n",
       "    </tr>\n",
       "    <tr>\n",
       "      <th>2</th>\n",
       "      <td>476,567 mi</td>\n",
       "      <td>Bonander Truck &amp; Trailer</td>\n",
       "      <td>Turlock, CA</td>\n",
       "      <td>$88,500</td>\n",
       "      <td>2016 Freightliner Cascadia</td>\n",
       "      <td>https://www.equipmentexperts.com/trucking/heav...</td>\n",
       "    </tr>\n",
       "    <tr>\n",
       "      <th>3</th>\n",
       "      <td>139,319 mi</td>\n",
       "      <td>Dobbs Peterbilt</td>\n",
       "      <td>North Little Rock, AR</td>\n",
       "      <td>$171,950</td>\n",
       "      <td>2022 PETERBILT 579</td>\n",
       "      <td>https://www.equipmentexperts.com/trucking/heav...</td>\n",
       "    </tr>\n",
       "    <tr>\n",
       "      <th>4</th>\n",
       "      <td>674,852 mi</td>\n",
       "      <td>Truck and Van Outlet</td>\n",
       "      <td>Miami, FL</td>\n",
       "      <td>$49,995</td>\n",
       "      <td>2012 Kenworth T700</td>\n",
       "      <td>https://www.equipmentexperts.com/trucking/heav...</td>\n",
       "    </tr>\n",
       "  </tbody>\n",
       "</table>\n",
       "</div>"
      ],
      "text/plain": [
       "      mileage                    dealer               location     price   \n",
       "0  461,060 mi      Doggett Freightliner              Pharr, TX   $34,900  \\\n",
       "1  391,294 mi         Arrow Truck Sales        French Camp, CA  $106,950   \n",
       "2  476,567 mi  Bonander Truck & Trailer            Turlock, CA   $88,500   \n",
       "3  139,319 mi           Dobbs Peterbilt  North Little Rock, AR  $171,950   \n",
       "4  674,852 mi      Truck and Van Outlet              Miami, FL   $49,995   \n",
       "\n",
       "                         make   \n",
       "0              2015 Volvo VNL  \\\n",
       "1          2020 KENWORTH T680   \n",
       "2  2016 Freightliner Cascadia   \n",
       "3          2022 PETERBILT 579   \n",
       "4          2012 Kenworth T700   \n",
       "\n",
       "                                             website  \n",
       "0  https://www.equipmentexperts.com/trucking/heav...  \n",
       "1  https://www.equipmentexperts.com/trucking/heav...  \n",
       "2  https://www.equipmentexperts.com/trucking/heav...  \n",
       "3  https://www.equipmentexperts.com/trucking/heav...  \n",
       "4  https://www.equipmentexperts.com/trucking/heav...  "
      ]
     },
     "execution_count": 2,
     "metadata": {},
     "output_type": "execute_result"
    }
   ],
   "source": [
    "data = pd.read_csv('equiptment_experts_raw_data.csv')\n",
    "data.head()"
   ]
  },
  {
   "cell_type": "markdown",
   "metadata": {},
   "source": [
    "#### Data Information <a class=\"anchor\" id=\"section1_2\"></a>\n",
    "some immediate insights are:\n",
    "* `mileage` is an object and needs to be stripped and converted to a float. There are also some null values and we should investigate values such as \"1 mi\"\n",
    "* `location` column can be split to City and State columns\n",
    "* `price` dtype needs to be converted to a int and although it is not showing any null values there are values like \"Call for Price\"\n",
    "* `make` column needs to be split into \"year\", \"make\", \"model\" and formatted\n",
    "* `website` dtype needs to be html\n"
   ]
  },
  {
   "cell_type": "code",
   "execution_count": 3,
   "metadata": {},
   "outputs": [
    {
     "name": "stdout",
     "output_type": "stream",
     "text": [
      "<class 'pandas.core.frame.DataFrame'>\n",
      "RangeIndex: 8857 entries, 0 to 8856\n",
      "Data columns (total 6 columns):\n",
      " #   Column    Non-Null Count  Dtype \n",
      "---  ------    --------------  ----- \n",
      " 0   mileage   8485 non-null   object\n",
      " 1   dealer    8857 non-null   object\n",
      " 2   location  8857 non-null   object\n",
      " 3   price     8857 non-null   object\n",
      " 4   make      8857 non-null   object\n",
      " 5   website   8857 non-null   object\n",
      "dtypes: object(6)\n",
      "memory usage: 415.3+ KB\n"
     ]
    }
   ],
   "source": [
    "data.info()"
   ]
  },
  {
   "cell_type": "code",
   "execution_count": 4,
   "metadata": {},
   "outputs": [
    {
     "data": {
      "text/plain": [
       "mileage     372\n",
       "dealer        0\n",
       "location      0\n",
       "price         0\n",
       "make          0\n",
       "website       0\n",
       "dtype: int64"
      ]
     },
     "execution_count": 4,
     "metadata": {},
     "output_type": "execute_result"
    }
   ],
   "source": [
    "data.isnull().sum()"
   ]
  },
  {
   "cell_type": "code",
   "execution_count": 5,
   "metadata": {},
   "outputs": [
    {
     "data": {
      "text/html": [
       "<div>\n",
       "<style scoped>\n",
       "    .dataframe tbody tr th:only-of-type {\n",
       "        vertical-align: middle;\n",
       "    }\n",
       "\n",
       "    .dataframe tbody tr th {\n",
       "        vertical-align: top;\n",
       "    }\n",
       "\n",
       "    .dataframe thead th {\n",
       "        text-align: right;\n",
       "    }\n",
       "</style>\n",
       "<table border=\"1\" class=\"dataframe\">\n",
       "  <thead>\n",
       "    <tr style=\"text-align: right;\">\n",
       "      <th></th>\n",
       "      <th>mileage</th>\n",
       "      <th>dealer</th>\n",
       "      <th>location</th>\n",
       "      <th>price</th>\n",
       "      <th>make</th>\n",
       "      <th>website</th>\n",
       "    </tr>\n",
       "  </thead>\n",
       "  <tbody>\n",
       "    <tr>\n",
       "      <th>count</th>\n",
       "      <td>8485</td>\n",
       "      <td>8857</td>\n",
       "      <td>8857</td>\n",
       "      <td>8857</td>\n",
       "      <td>8857</td>\n",
       "      <td>8857</td>\n",
       "    </tr>\n",
       "    <tr>\n",
       "      <th>unique</th>\n",
       "      <td>8290</td>\n",
       "      <td>76</td>\n",
       "      <td>498</td>\n",
       "      <td>1694</td>\n",
       "      <td>1299</td>\n",
       "      <td>8857</td>\n",
       "    </tr>\n",
       "    <tr>\n",
       "      <th>top</th>\n",
       "      <td>1 mi</td>\n",
       "      <td>Penske Used Trucks</td>\n",
       "      <td>Covington, TN</td>\n",
       "      <td>Call For Price</td>\n",
       "      <td>2016 FREIGHTLINER X12564ST</td>\n",
       "      <td>https://www.equipmentexperts.com/trucking/heav...</td>\n",
       "    </tr>\n",
       "    <tr>\n",
       "      <th>freq</th>\n",
       "      <td>10</td>\n",
       "      <td>2237</td>\n",
       "      <td>804</td>\n",
       "      <td>355</td>\n",
       "      <td>563</td>\n",
       "      <td>1</td>\n",
       "    </tr>\n",
       "  </tbody>\n",
       "</table>\n",
       "</div>"
      ],
      "text/plain": [
       "       mileage              dealer       location           price   \n",
       "count     8485                8857           8857            8857  \\\n",
       "unique    8290                  76            498            1694   \n",
       "top       1 mi  Penske Used Trucks  Covington, TN  Call For Price   \n",
       "freq        10                2237            804             355   \n",
       "\n",
       "                              make   \n",
       "count                         8857  \\\n",
       "unique                        1299   \n",
       "top     2016 FREIGHTLINER X12564ST   \n",
       "freq                           563   \n",
       "\n",
       "                                                  website  \n",
       "count                                                8857  \n",
       "unique                                               8857  \n",
       "top     https://www.equipmentexperts.com/trucking/heav...  \n",
       "freq                                                    1  "
      ]
     },
     "execution_count": 5,
     "metadata": {},
     "output_type": "execute_result"
    }
   ],
   "source": [
    "data.describe()"
   ]
  },
  {
   "cell_type": "markdown",
   "metadata": {},
   "source": [
    "### Data Cleaning <a class=\"anchor\" id=\"section2\"></a>"
   ]
  },
  {
   "cell_type": "markdown",
   "metadata": {},
   "source": [
    "#### Categorical Data Cleaning <a class=\"anchor\" id=\"section2_1\"></a>\n",
    "\n",
    "We will start with seperating all our categorical data into their desired columns\n",
    "* create `year`, `make`, `model` columns\n",
    "    * 1 issue was with the format 'Navistar'(Parent Company of International) on International trucks that had different format than the rest of the trucks. I first had to remove this in order properly split the columns\n",
    "* create `city`, `state` columns\n",
    "* check our makes and drop any makes in the data that are not Class A vehicles"
   ]
  },
  {
   "cell_type": "code",
   "execution_count": 6,
   "metadata": {},
   "outputs": [
    {
     "data": {
      "text/html": [
       "<div>\n",
       "<style scoped>\n",
       "    .dataframe tbody tr th:only-of-type {\n",
       "        vertical-align: middle;\n",
       "    }\n",
       "\n",
       "    .dataframe tbody tr th {\n",
       "        vertical-align: top;\n",
       "    }\n",
       "\n",
       "    .dataframe thead th {\n",
       "        text-align: right;\n",
       "    }\n",
       "</style>\n",
       "<table border=\"1\" class=\"dataframe\">\n",
       "  <thead>\n",
       "    <tr style=\"text-align: right;\">\n",
       "      <th></th>\n",
       "      <th>mileage</th>\n",
       "      <th>dealer</th>\n",
       "      <th>price</th>\n",
       "      <th>make</th>\n",
       "      <th>website</th>\n",
       "      <th>year</th>\n",
       "      <th>model</th>\n",
       "      <th>city</th>\n",
       "      <th>state</th>\n",
       "    </tr>\n",
       "  </thead>\n",
       "  <tbody>\n",
       "    <tr>\n",
       "      <th>0</th>\n",
       "      <td>461,060 mi</td>\n",
       "      <td>Doggett Freightliner</td>\n",
       "      <td>$34,900</td>\n",
       "      <td>Volvo</td>\n",
       "      <td>https://www.equipmentexperts.com/trucking/heav...</td>\n",
       "      <td>2015</td>\n",
       "      <td>Vnl</td>\n",
       "      <td>Pharr</td>\n",
       "      <td>TX</td>\n",
       "    </tr>\n",
       "    <tr>\n",
       "      <th>1</th>\n",
       "      <td>391,294 mi</td>\n",
       "      <td>Arrow Truck Sales</td>\n",
       "      <td>$106,950</td>\n",
       "      <td>Kenworth</td>\n",
       "      <td>https://www.equipmentexperts.com/trucking/heav...</td>\n",
       "      <td>2020</td>\n",
       "      <td>T680</td>\n",
       "      <td>French Camp</td>\n",
       "      <td>CA</td>\n",
       "    </tr>\n",
       "    <tr>\n",
       "      <th>2</th>\n",
       "      <td>476,567 mi</td>\n",
       "      <td>Bonander Truck &amp; Trailer</td>\n",
       "      <td>$88,500</td>\n",
       "      <td>Freightliner</td>\n",
       "      <td>https://www.equipmentexperts.com/trucking/heav...</td>\n",
       "      <td>2016</td>\n",
       "      <td>Cascadia</td>\n",
       "      <td>Turlock</td>\n",
       "      <td>CA</td>\n",
       "    </tr>\n",
       "    <tr>\n",
       "      <th>3</th>\n",
       "      <td>139,319 mi</td>\n",
       "      <td>Dobbs Peterbilt</td>\n",
       "      <td>$171,950</td>\n",
       "      <td>Peterbilt</td>\n",
       "      <td>https://www.equipmentexperts.com/trucking/heav...</td>\n",
       "      <td>2022</td>\n",
       "      <td>579</td>\n",
       "      <td>North Little Rock</td>\n",
       "      <td>AR</td>\n",
       "    </tr>\n",
       "    <tr>\n",
       "      <th>4</th>\n",
       "      <td>674,852 mi</td>\n",
       "      <td>Truck and Van Outlet</td>\n",
       "      <td>$49,995</td>\n",
       "      <td>Kenworth</td>\n",
       "      <td>https://www.equipmentexperts.com/trucking/heav...</td>\n",
       "      <td>2012</td>\n",
       "      <td>T700</td>\n",
       "      <td>Miami</td>\n",
       "      <td>FL</td>\n",
       "    </tr>\n",
       "  </tbody>\n",
       "</table>\n",
       "</div>"
      ],
      "text/plain": [
       "      mileage                    dealer     price          make   \n",
       "0  461,060 mi      Doggett Freightliner   $34,900         Volvo  \\\n",
       "1  391,294 mi         Arrow Truck Sales  $106,950      Kenworth   \n",
       "2  476,567 mi  Bonander Truck & Trailer   $88,500  Freightliner   \n",
       "3  139,319 mi           Dobbs Peterbilt  $171,950     Peterbilt   \n",
       "4  674,852 mi      Truck and Van Outlet   $49,995      Kenworth   \n",
       "\n",
       "                                             website  year     model   \n",
       "0  https://www.equipmentexperts.com/trucking/heav...  2015       Vnl  \\\n",
       "1  https://www.equipmentexperts.com/trucking/heav...  2020      T680   \n",
       "2  https://www.equipmentexperts.com/trucking/heav...  2016  Cascadia   \n",
       "3  https://www.equipmentexperts.com/trucking/heav...  2022       579   \n",
       "4  https://www.equipmentexperts.com/trucking/heav...  2012      T700   \n",
       "\n",
       "                city state  \n",
       "0              Pharr    TX  \n",
       "1        French Camp    CA  \n",
       "2            Turlock    CA  \n",
       "3  North Little Rock    AR  \n",
       "4              Miami    FL  "
      ]
     },
     "execution_count": 6,
     "metadata": {},
     "output_type": "execute_result"
    }
   ],
   "source": [
    "# removing 'Navistar' from makes so that we can split correctly\n",
    "data['make'] = data['make'].str.title()\n",
    "data['make'] = data['make'].str.replace('Navistar', '')\n",
    "\n",
    "# creating new columns and adding the data to them from the make column\n",
    "data['year'] = data['make'].apply(lambda x: str(x).split()[0])\n",
    "data['model'] = data['make'].apply(lambda x: ''.join(str(x).split()[2:]))\n",
    "data['make'] = data['make'].apply(lambda x: str(x).split()[1])\n",
    "\n",
    "# creating city and state columns and removing location column\n",
    "data['city'] = data['location'].apply(lambda x: str(x).split(',')[0])\n",
    "data['state'] = data['location'].apply(lambda x: str(x).split(',')[1])\n",
    "data.drop(columns='location', axis=1, inplace=True)\n",
    "\n",
    "#changing website datatype\n",
    "def make_clickable(val):\n",
    "    return f'<a target=\"_blank\" href=\"{val}\">{val}</a>'\n",
    "data.style.format({'websiite': make_clickable})\n",
    "\n",
    "\n",
    "data.head()"
   ]
  },
  {
   "cell_type": "code",
   "execution_count": 7,
   "metadata": {},
   "outputs": [
    {
     "name": "stdout",
     "output_type": "stream",
     "text": [
      "['Volvo' 'Kenworth' 'Freightliner' 'Peterbilt' 'Mack' 'International'\n",
      " 'Western' 'Sterling' 'Ftl' 'Gmc' 'Ford' 'Autocar' 'Cascadia' 'Isuzu'\n",
      " '379' 'Caterpillar' 'Kaiser' 'Ccc' 'Chevrolet' '567' 'Oshkosh' 'Bmy']\n"
     ]
    }
   ],
   "source": [
    "print(data.make.unique())"
   ]
  },
  {
   "cell_type": "markdown",
   "metadata": {},
   "source": [
    "a couple of issues arrise:\n",
    "* not all makes are stricly class A\n",
    "* some models ended up in our makes '567', 'Cascadia'\n",
    "* 'Ftl' is a 'Freightliner' and 'Western' is a 'Western Star'"
   ]
  },
  {
   "cell_type": "code",
   "execution_count": 8,
   "metadata": {},
   "outputs": [
    {
     "name": "stdout",
     "output_type": "stream",
     "text": [
      "['Volvo' 'Kenworth' 'Freightliner' 'Peterbilt' 'Mack' 'International'\n",
      " 'Western Star' 'Sterling']\n"
     ]
    }
   ],
   "source": [
    "# missing year - information not provided by website\n",
    "# model_error = data[data['make'] == '567']\n",
    "\n",
    "# incorrect model - information not provided by website\n",
    "# model_error = data[data['make'] == 'Ftl']\n",
    "\n",
    "# missing year - information not provided by website\n",
    "# model_error = data[data['make'] == 'Cascadia']\n",
    "\n",
    "# can be fixed - only 'make' with 2 words, Star is part of model\n",
    "#model_error = data[data['make'] == 'Western']\n",
    "#model_error.head()\n",
    "\n",
    "# removing Star from model and correcting all Western Star makes\n",
    "data['model'] = data['model'].apply(lambda x: str(x).strip('Star'))\n",
    "data['make'] = data['make'].apply(lambda x: x + ' Star' if x == 'Western' else x)\n",
    "\n",
    "#removing all rows that are not a class A vehicle\n",
    "class_a = ['Volvo', 'Kenworth', 'Freightliner', 'Peterbilt', 'Mack', 'International', 'Western Star', 'Sterling']\n",
    "data = data[data['make'].isin(class_a)]\n",
    "print(data['make'].unique())\n"
   ]
  },
  {
   "cell_type": "markdown",
   "metadata": {},
   "source": [
    "We will now work to make the `year` column categorical\n",
    "* one of the values for `year` is incorrect we will remove that"
   ]
  },
  {
   "cell_type": "code",
   "execution_count": 9,
   "metadata": {},
   "outputs": [
    {
     "data": {
      "text/plain": [
       "array(['2015', '2020', '2016', '2022', '2012', '2019', '2000', '2017',\n",
       "       '2018', '2001', '2014', '2008', '2010', '2004', '2005', '2009',\n",
       "       '2021', '1996', '2013', '2007', '2011', '2006', '1997', '2002',\n",
       "       '1998', '1999', '1987', '2023', '2003', '1989', '2024', '1988',\n",
       "       '1993', '1995', '1991', '1986', '1994', '1990', '1985', '1966',\n",
       "       '1963', '1992', '1982', '1972', '1980', '1979', '1984', '201'],\n",
       "      dtype=object)"
      ]
     },
     "execution_count": 9,
     "metadata": {},
     "output_type": "execute_result"
    }
   ],
   "source": [
    "# getting list of years for categories\n",
    "years = data['year'].unique()\n",
    "years"
   ]
  },
  {
   "cell_type": "code",
   "execution_count": 20,
   "metadata": {},
   "outputs": [
    {
     "data": {
      "text/plain": [
       "array(['2015', '2020', '2016', '2022', '2012', '2019', '2000', '2017',\n",
       "       '2018', '2001', '2014', '2010', '2004', '2005', '2009', '2021',\n",
       "       '2007', '1996', '2011', '2006', '1997', '1998', '2008', '2013',\n",
       "       '1999', '2003', '1987', '1988', '2002', '2023', '1995', '1991',\n",
       "       '1994', '1990', '1985', '1966', '1963', '1992', '1989', '1982',\n",
       "       '1993', '1980', '1979', '1986', '1984'], dtype=object)"
      ]
     },
     "execution_count": 20,
     "metadata": {},
     "output_type": "execute_result"
    }
   ],
   "source": [
    "# removing all instances of invalid year using regular expression for 4 digits\n",
    "data = data[data['year'].apply(lambda x: bool(re.match(r'^\\d{4}$', x)))]\n",
    "years = data['year'].unique()\n",
    "years"
   ]
  },
  {
   "cell_type": "markdown",
   "metadata": {},
   "source": [
    "#### Qantitiative Data Cleaning <a class=\"anchor\" id=\"section2_2\"></a>\n",
    "The `mileage` and `price` column are going to be our main columns for analysis so we need to ensure these are the cleanest we will start by:\n",
    "* converting all psuedo NaN values to an acutal Nan and then removing them from our dataset\n",
    "* removing commas and strings from `mileage` and converting them to integers\n",
    "* removing $ and commas from `price` and converting them to floats\n",
    "\n",
    "Both columns are then looked at using a boxplot for outliers since we have found some we will explore there merit"
   ]
  },
  {
   "cell_type": "code",
   "execution_count": 11,
   "metadata": {},
   "outputs": [],
   "source": [
    "# replacing values 'nan' and 'Call For Price' with actual Nan values\n",
    "data['price'] = data['price'].replace('Call For Price', np.NaN)\n",
    "data['mileage'] = data['mileage'].replace('nan', np.NaN)\n",
    "\n",
    "#drop all NaN values from mileage and price\n",
    "data = data.dropna(how = 'any').reset_index(drop=True)\n",
    "\n",
    "#spliting strings, removing commas, converting to int64 - (some values were too big we need to investigate)\n",
    "data['mileage'] = data['mileage'].apply(lambda x: str(x).split(' ')[0].replace(',', '')).astype('int64')\n",
    "data['price'] = data['price'].apply(lambda x: str(x).replace('$', '').replace(',', '')).astype('float')"
   ]
  },
  {
   "cell_type": "code",
   "execution_count": 12,
   "metadata": {},
   "outputs": [
    {
     "data": {
      "image/png": "[encoded data removed]",
      "text/plain": [
       "<Figure size 640x480 with 1 Axes>"
      ]
     },
     "metadata": {},
     "output_type": "display_data"
    },
    {
     "data": {
      "image/png": "[encoded data removed]",
      "text/plain": [
       "<Figure size 640x480 with 1 Axes>"
      ]
     },
     "metadata": {},
     "output_type": "display_data"
    },
    {
     "data": {
      "text/plain": [
       "<Figure size 640x480 with 0 Axes>"
      ]
     },
     "metadata": {},
     "output_type": "display_data"
    }
   ],
   "source": [
    "#plottig boxplot for outlier information\n",
    "sns.boxplot(data['mileage'])\n",
    "plt.title('All Trucks Mileage')\n",
    "plt.show()\n",
    "plt.clf()\n",
    "sns.boxplot(data['price'])\n",
    "plt.title('All Trucks Price')\n",
    "plt.show()\n",
    "plt.clf()"
   ]
  },
  {
   "cell_type": "markdown",
   "metadata": {},
   "source": [
    "There is a significant outlier showing 500 trillion miles- \"and on the first day God created a 2018 Volvo VNL\" sounds legit right! lets go ahead and remove that from our data\n",
    "\n",
    "There is also a high amount for a used truck, after exploring this outlier on the below scatter plot compared to vehicles like it, I have determined they must have added an extra 0 when publishing it. The truck is no longer on the website so I cannot verify for sure if maybe this was a heavy haul or possibly an oil field rig either way we are removing it from our dataset"
   ]
  },
  {
   "cell_type": "code",
   "execution_count": 13,
   "metadata": {},
   "outputs": [
    {
     "data": {
      "text/html": [
       "<div>\n",
       "<style scoped>\n",
       "    .dataframe tbody tr th:only-of-type {\n",
       "        vertical-align: middle;\n",
       "    }\n",
       "\n",
       "    .dataframe tbody tr th {\n",
       "        vertical-align: top;\n",
       "    }\n",
       "\n",
       "    .dataframe thead th {\n",
       "        text-align: right;\n",
       "    }\n",
       "</style>\n",
       "<table border=\"1\" class=\"dataframe\">\n",
       "  <thead>\n",
       "    <tr style=\"text-align: right;\">\n",
       "      <th></th>\n",
       "      <th>mileage</th>\n",
       "      <th>dealer</th>\n",
       "      <th>price</th>\n",
       "      <th>make</th>\n",
       "      <th>website</th>\n",
       "      <th>year</th>\n",
       "      <th>model</th>\n",
       "      <th>city</th>\n",
       "      <th>state</th>\n",
       "    </tr>\n",
       "  </thead>\n",
       "  <tbody>\n",
       "    <tr>\n",
       "      <th>854</th>\n",
       "      <td>499113501094</td>\n",
       "      <td>Tri-State Truck Center Inc</td>\n",
       "      <td>85995.0</td>\n",
       "      <td>Volvo</td>\n",
       "      <td>https://www.equipmentexperts.com/trucking/heav...</td>\n",
       "      <td>2018</td>\n",
       "      <td>Vnl64T860</td>\n",
       "      <td>Memphis</td>\n",
       "      <td>TN</td>\n",
       "    </tr>\n",
       "    <tr>\n",
       "      <th>3165</th>\n",
       "      <td>2505063</td>\n",
       "      <td>Gateline Equipment</td>\n",
       "      <td>69999.0</td>\n",
       "      <td>Peterbilt</td>\n",
       "      <td>https://www.equipmentexperts.com/trucking/heav...</td>\n",
       "      <td>2000</td>\n",
       "      <td>379</td>\n",
       "      <td>Calhoun</td>\n",
       "      <td>TN</td>\n",
       "    </tr>\n",
       "  </tbody>\n",
       "</table>\n",
       "</div>"
      ],
      "text/plain": [
       "           mileage                      dealer    price       make   \n",
       "854   499113501094  Tri-State Truck Center Inc  85995.0      Volvo  \\\n",
       "3165       2505063          Gateline Equipment  69999.0  Peterbilt   \n",
       "\n",
       "                                                website  year      model   \n",
       "854   https://www.equipmentexperts.com/trucking/heav...  2018  Vnl64T860  \\\n",
       "3165  https://www.equipmentexperts.com/trucking/heav...  2000        379   \n",
       "\n",
       "         city state  \n",
       "854   Memphis    TN  \n",
       "3165  Calhoun    TN  "
      ]
     },
     "execution_count": 13,
     "metadata": {},
     "output_type": "execute_result"
    }
   ],
   "source": [
    "#exploring the outlier for high mileage\n",
    "high_mileage_truck = data[data['mileage'] > 2000000]\n",
    "high_mileage_truck"
   ]
  },
  {
   "cell_type": "code",
   "execution_count": 14,
   "metadata": {},
   "outputs": [
    {
     "data": {
      "text/html": [
       "<div>\n",
       "<style scoped>\n",
       "    .dataframe tbody tr th:only-of-type {\n",
       "        vertical-align: middle;\n",
       "    }\n",
       "\n",
       "    .dataframe tbody tr th {\n",
       "        vertical-align: top;\n",
       "    }\n",
       "\n",
       "    .dataframe thead th {\n",
       "        text-align: right;\n",
       "    }\n",
       "</style>\n",
       "<table border=\"1\" class=\"dataframe\">\n",
       "  <thead>\n",
       "    <tr style=\"text-align: right;\">\n",
       "      <th></th>\n",
       "      <th>mileage</th>\n",
       "      <th>dealer</th>\n",
       "      <th>price</th>\n",
       "      <th>make</th>\n",
       "      <th>website</th>\n",
       "      <th>year</th>\n",
       "      <th>model</th>\n",
       "      <th>city</th>\n",
       "      <th>state</th>\n",
       "    </tr>\n",
       "  </thead>\n",
       "  <tbody>\n",
       "    <tr>\n",
       "      <th>3730</th>\n",
       "      <td>588319</td>\n",
       "      <td>M&amp;K Truck Centers</td>\n",
       "      <td>638400.0</td>\n",
       "      <td>Freightliner</td>\n",
       "      <td>https://www.equipmentexperts.com/trucking/heav...</td>\n",
       "      <td>2018</td>\n",
       "      <td>Cascadia126</td>\n",
       "      <td>Indianapolis</td>\n",
       "      <td>IN</td>\n",
       "    </tr>\n",
       "  </tbody>\n",
       "</table>\n",
       "</div>"
      ],
      "text/plain": [
       "      mileage             dealer     price          make   \n",
       "3730   588319  M&K Truck Centers  638400.0  Freightliner  \\\n",
       "\n",
       "                                                website  year        model   \n",
       "3730  https://www.equipmentexperts.com/trucking/heav...  2018  Cascadia126  \\\n",
       "\n",
       "              city state  \n",
       "3730  Indianapolis    IN  "
      ]
     },
     "execution_count": 14,
     "metadata": {},
     "output_type": "execute_result"
    }
   ],
   "source": [
    "#exploring the outlier for high price\n",
    "high_price_outlier = data[data['price'] > 500000]\n",
    "data_like_outlier = data[(data['year'] == '2018') & (data['make'] == 'Freightliner') & (data['mileage'].between(550000, 600000))]\n",
    "high_price_outlier"
   ]
  },
  {
   "cell_type": "code",
   "execution_count": 15,
   "metadata": {},
   "outputs": [
    {
     "data": {
      "image/png": "[encoded data removed]",
      "text/plain": [
       "<Figure size 640x480 with 1 Axes>"
      ]
     },
     "metadata": {},
     "output_type": "display_data"
    },
    {
     "data": {
      "text/plain": [
       "<Figure size 640x480 with 0 Axes>"
      ]
     },
     "metadata": {},
     "output_type": "display_data"
    }
   ],
   "source": [
    "sns.scatterplot(data_like_outlier, x='mileage', y='price')\n",
    "plt.title('Trucks similar to our outlier in miles, make, and year')\n",
    "plt.show()\n",
    "plt.clf()"
   ]
  },
  {
   "cell_type": "markdown",
   "metadata": {},
   "source": [
    "Removing outliers from dataset\n",
    "We will also remove any truck with mileage less than 10000 miles as we are exploring used trucks not new trucks this will also clean our data from really high prices of newer trucks"
   ]
  },
  {
   "cell_type": "code",
   "execution_count": 16,
   "metadata": {},
   "outputs": [
    {
     "data": {
      "image/png": "[encoded data removed]",
      "text/plain": [
       "<Figure size 640x480 with 1 Axes>"
      ]
     },
     "metadata": {},
     "output_type": "display_data"
    },
    {
     "data": {
      "image/png": "[encoded data removed]",
      "text/plain": [
       "<Figure size 640x480 with 1 Axes>"
      ]
     },
     "metadata": {},
     "output_type": "display_data"
    },
    {
     "data": {
      "text/plain": [
       "<Figure size 640x480 with 0 Axes>"
      ]
     },
     "metadata": {},
     "output_type": "display_data"
    }
   ],
   "source": [
    "data = data[data['price'] < 600000]\n",
    "data = data[data['mileage'].between(10000, 2000000)]\n",
    "\n",
    "sns.boxplot(data['mileage'])\n",
    "plt.title('All Trucks Mileage')\n",
    "plt.show()\n",
    "plt.clf()\n",
    "sns.boxplot(data['price'])\n",
    "plt.title('All Trucks Price')\n",
    "plt.show()\n",
    "plt.clf()\n"
   ]
  },
  {
   "cell_type": "code",
   "execution_count": 17,
   "metadata": {},
   "outputs": [
    {
     "data": {
      "text/html": [
       "<div>\n",
       "<style scoped>\n",
       "    .dataframe tbody tr th:only-of-type {\n",
       "        vertical-align: middle;\n",
       "    }\n",
       "\n",
       "    .dataframe tbody tr th {\n",
       "        vertical-align: top;\n",
       "    }\n",
       "\n",
       "    .dataframe thead th {\n",
       "        text-align: right;\n",
       "    }\n",
       "</style>\n",
       "<table border=\"1\" class=\"dataframe\">\n",
       "  <thead>\n",
       "    <tr style=\"text-align: right;\">\n",
       "      <th></th>\n",
       "      <th>mileage</th>\n",
       "      <th>price</th>\n",
       "    </tr>\n",
       "  </thead>\n",
       "  <tbody>\n",
       "    <tr>\n",
       "      <th>count</th>\n",
       "      <td>8.155000e+03</td>\n",
       "      <td>8155.000000</td>\n",
       "    </tr>\n",
       "    <tr>\n",
       "      <th>mean</th>\n",
       "      <td>4.947217e+05</td>\n",
       "      <td>61926.461925</td>\n",
       "    </tr>\n",
       "    <tr>\n",
       "      <th>std</th>\n",
       "      <td>1.893404e+05</td>\n",
       "      <td>28069.172220</td>\n",
       "    </tr>\n",
       "    <tr>\n",
       "      <th>min</th>\n",
       "      <td>1.105000e+04</td>\n",
       "      <td>4500.000000</td>\n",
       "    </tr>\n",
       "    <tr>\n",
       "      <th>25%</th>\n",
       "      <td>3.827125e+05</td>\n",
       "      <td>45495.000000</td>\n",
       "    </tr>\n",
       "    <tr>\n",
       "      <th>50%</th>\n",
       "      <td>4.956900e+05</td>\n",
       "      <td>58500.000000</td>\n",
       "    </tr>\n",
       "    <tr>\n",
       "      <th>75%</th>\n",
       "      <td>6.062580e+05</td>\n",
       "      <td>74313.500000</td>\n",
       "    </tr>\n",
       "    <tr>\n",
       "      <th>max</th>\n",
       "      <td>1.667000e+06</td>\n",
       "      <td>299000.000000</td>\n",
       "    </tr>\n",
       "  </tbody>\n",
       "</table>\n",
       "</div>"
      ],
      "text/plain": [
       "            mileage          price\n",
       "count  8.155000e+03    8155.000000\n",
       "mean   4.947217e+05   61926.461925\n",
       "std    1.893404e+05   28069.172220\n",
       "min    1.105000e+04    4500.000000\n",
       "25%    3.827125e+05   45495.000000\n",
       "50%    4.956900e+05   58500.000000\n",
       "75%    6.062580e+05   74313.500000\n",
       "max    1.667000e+06  299000.000000"
      ]
     },
     "execution_count": 17,
     "metadata": {},
     "output_type": "execute_result"
    }
   ],
   "source": [
    "data.describe()"
   ]
  },
  {
   "cell_type": "code",
   "execution_count": 18,
   "metadata": {},
   "outputs": [
    {
     "name": "stdout",
     "output_type": "stream",
     "text": [
      "<class 'pandas.core.frame.DataFrame'>\n",
      "Index: 8155 entries, 0 to 8175\n",
      "Data columns (total 9 columns):\n",
      " #   Column   Non-Null Count  Dtype  \n",
      "---  ------   --------------  -----  \n",
      " 0   mileage  8155 non-null   int64  \n",
      " 1   dealer   8155 non-null   object \n",
      " 2   price    8155 non-null   float64\n",
      " 3   make     8155 non-null   object \n",
      " 4   website  8155 non-null   object \n",
      " 5   year     8155 non-null   object \n",
      " 6   model    8155 non-null   object \n",
      " 7   city     8155 non-null   object \n",
      " 8   state    8155 non-null   object \n",
      "dtypes: float64(1), int64(1), object(7)\n",
      "memory usage: 895.1+ KB\n"
     ]
    }
   ],
   "source": [
    "data.info()"
   ]
  }
 ],
 "metadata": {
  "kernelspec": {
   "display_name": "Python 3",
   "language": "python",
   "name": "python3"
  },
  "language_info": {
   "codemirror_mode": {
    "name": "ipython",
    "version": 3
   },
   "file_extension": ".py",
   "mimetype": "text/x-python",
   "name": "python",
   "nbconvert_exporter": "python",
   "pygments_lexer": "ipython3",
   "version": "3.10.11"
  },
  "orig_nbformat": 4
 },
 "nbformat": 4,
 "nbformat_minor": 2
}
